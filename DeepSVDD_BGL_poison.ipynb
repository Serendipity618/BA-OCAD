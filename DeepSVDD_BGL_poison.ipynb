{
 "cells": [
  {
   "cell_type": "code",
   "execution_count": 1,
   "metadata": {
    "ExecuteTime": {
     "end_time": "2023-10-31T22:32:02.191629200Z",
     "start_time": "2023-10-31T22:32:02.128500800Z"
    }
   },
   "outputs": [],
   "source": [
    "import os\n",
    "import torch\n",
    "import random\n",
    "import torch.optim as optim\n",
    "import pandas as pd\n",
    "import numpy as np\n",
    "from tqdm import tqdm\n",
    "import torch.nn as nn\n",
    "from sklearn import metrics\n",
    "from sklearn import manifold\n",
    "from sklearn.model_selection import train_test_split\n",
    "from collections import Counter\n",
    "import torch.nn.functional as F\n",
    "from collections import deque\n",
    "from torch.autograd import Variable\n",
    "import matplotlib.pyplot as plt\n",
    "from matplotlib.pyplot import figure\n",
    "import matplotlib.pyplot as plt\n",
    "from torch.utils.data import DataLoader, Dataset\n",
    "from copy import deepcopy\n",
    "\n",
    "import os\n",
    "\n",
    "os.environ[\"CUDA_LAUNCH_BLOCKING\"] = \"1\""
   ]
  },
  {
   "cell_type": "code",
   "execution_count": 2,
   "metadata": {
    "ExecuteTime": {
     "end_time": "2023-10-31T22:32:02.215629Z",
     "start_time": "2023-10-31T22:32:02.141985100Z"
    }
   },
   "outputs": [],
   "source": [
    "device = torch.device('cuda:0' if torch.cuda.is_available() else 'cpu')"
   ]
  },
  {
   "cell_type": "code",
   "execution_count": 3,
   "metadata": {
    "ExecuteTime": {
     "end_time": "2023-10-31T22:32:02.254525Z",
     "start_time": "2023-10-31T22:32:02.141985100Z"
    }
   },
   "outputs": [],
   "source": [
    "seed = 2023\n",
    "\n",
    "\n",
    "def setup_seed(seed=seed):\n",
    "    torch.manual_seed(seed)\n",
    "    torch.cuda.manual_seed_all(seed)\n",
    "    np.random.seed(seed)\n",
    "    random.seed(seed)\n",
    "    torch.backends.cudnn.deterministic = True\n",
    "    torch.backends.cudnn.benchmark = False"
   ]
  },
  {
   "cell_type": "code",
   "execution_count": 4,
   "metadata": {
    "ExecuteTime": {
     "end_time": "2023-10-31T22:32:10.992622400Z",
     "start_time": "2023-10-31T22:32:02.196804400Z"
    }
   },
   "outputs": [],
   "source": [
    "logdata = pd.read_csv(r'~/Python_projects/CFDet/Dataset/BGL.log_structured_v1.csv')[0:2000000]"
   ]
  },
  {
   "cell_type": "code",
   "execution_count": 5,
   "metadata": {
    "ExecuteTime": {
     "end_time": "2023-10-31T22:32:10.992622400Z",
     "start_time": "2023-10-31T22:32:10.992622400Z"
    }
   },
   "outputs": [],
   "source": [
    "def slide_window(logdata, window_size=40, step_size=10):\n",
    "    logdata[\"Label\"] = logdata[\"Label\"].apply(lambda x: int(x != '-'))\n",
    "    data = logdata.loc[:, ['EventId', 'Label']]\n",
    "    data['Key_label'] = data['Label']\n",
    "    data.rename(columns={'Label': 'Sequence_label'})\n",
    "    logkey = data['EventId']\n",
    "    logkey_label = data['Key_label']\n",
    "\n",
    "    new_data = []\n",
    "    idx = 0\n",
    "\n",
    "    while idx <= data.shape[0] - window_size:\n",
    "        new_data.append([\n",
    "            logkey[idx: idx + window_size].values,\n",
    "            max(logkey_label[idx: idx + window_size]),\n",
    "            logkey_label[idx: idx + window_size].values\n",
    "        ])\n",
    "        idx += step_size\n",
    "    return pd.DataFrame(new_data, columns=['EventId', 'Sequence_label', 'Key_label'])"
   ]
  },
  {
   "cell_type": "code",
   "execution_count": 6,
   "metadata": {
    "ExecuteTime": {
     "end_time": "2023-10-31T22:32:41.092368200Z",
     "start_time": "2023-10-31T22:32:10.992622400Z"
    }
   },
   "outputs": [
    {
     "data": {
      "text/html": [
       "<div>\n",
       "<style scoped>\n",
       "    .dataframe tbody tr th:only-of-type {\n",
       "        vertical-align: middle;\n",
       "    }\n",
       "\n",
       "    .dataframe tbody tr th {\n",
       "        vertical-align: top;\n",
       "    }\n",
       "\n",
       "    .dataframe thead th {\n",
       "        text-align: right;\n",
       "    }\n",
       "</style>\n",
       "<table border=\"1\" class=\"dataframe\">\n",
       "  <thead>\n",
       "    <tr style=\"text-align: right;\">\n",
       "      <th></th>\n",
       "      <th>EventId</th>\n",
       "      <th>Sequence_label</th>\n",
       "      <th>Key_label</th>\n",
       "    </tr>\n",
       "  </thead>\n",
       "  <tbody>\n",
       "    <tr>\n",
       "      <th>0</th>\n",
       "      <td>[3aa50e45, 3aa50e45, 3aa50e45, 3aa50e45, 3aa50...</td>\n",
       "      <td>0</td>\n",
       "      <td>[0, 0, 0, 0, 0, 0, 0, 0, 0, 0, 0, 0, 0, 0, 0, ...</td>\n",
       "    </tr>\n",
       "    <tr>\n",
       "      <th>1</th>\n",
       "      <td>[3aa50e45, 3aa50e45, 3aa50e45, 3aa50e45, 3aa50...</td>\n",
       "      <td>0</td>\n",
       "      <td>[0, 0, 0, 0, 0, 0, 0, 0, 0, 0, 0, 0, 0, 0, 0, ...</td>\n",
       "    </tr>\n",
       "    <tr>\n",
       "      <th>2</th>\n",
       "      <td>[3aa50e45, 3aa50e45, 3aa50e45, 3aa50e45, 3aa50...</td>\n",
       "      <td>0</td>\n",
       "      <td>[0, 0, 0, 0, 0, 0, 0, 0, 0, 0, 0, 0, 0, 0, 0, ...</td>\n",
       "    </tr>\n",
       "    <tr>\n",
       "      <th>3</th>\n",
       "      <td>[3aa50e45, 3aa50e45, 3aa50e45, 3aa50e45, 3aa50...</td>\n",
       "      <td>0</td>\n",
       "      <td>[0, 0, 0, 0, 0, 0, 0, 0, 0, 0, 0, 0, 0, 0, 0, ...</td>\n",
       "    </tr>\n",
       "    <tr>\n",
       "      <th>4</th>\n",
       "      <td>[3aa50e45, 3aa50e45, 3aa50e45, 3aa50e45, 3aa50...</td>\n",
       "      <td>0</td>\n",
       "      <td>[0, 0, 0, 0, 0, 0, 0, 0, 0, 0, 0, 0, 0, 0, 0, ...</td>\n",
       "    </tr>\n",
       "    <tr>\n",
       "      <th>...</th>\n",
       "      <td>...</td>\n",
       "      <td>...</td>\n",
       "      <td>...</td>\n",
       "    </tr>\n",
       "    <tr>\n",
       "      <th>199992</th>\n",
       "      <td>[070de4aa, 070de4aa, 070de4aa, 070de4aa, 070de...</td>\n",
       "      <td>0</td>\n",
       "      <td>[0, 0, 0, 0, 0, 0, 0, 0, 0, 0, 0, 0, 0, 0, 0, ...</td>\n",
       "    </tr>\n",
       "    <tr>\n",
       "      <th>199993</th>\n",
       "      <td>[070de4aa, 070de4aa, 070de4aa, 070de4aa, 070de...</td>\n",
       "      <td>0</td>\n",
       "      <td>[0, 0, 0, 0, 0, 0, 0, 0, 0, 0, 0, 0, 0, 0, 0, ...</td>\n",
       "    </tr>\n",
       "    <tr>\n",
       "      <th>199994</th>\n",
       "      <td>[070de4aa, 070de4aa, 070de4aa, 070de4aa, 070de...</td>\n",
       "      <td>0</td>\n",
       "      <td>[0, 0, 0, 0, 0, 0, 0, 0, 0, 0, 0, 0, 0, 0, 0, ...</td>\n",
       "    </tr>\n",
       "    <tr>\n",
       "      <th>199995</th>\n",
       "      <td>[070de4aa, 070de4aa, 070de4aa, 070de4aa, 070de...</td>\n",
       "      <td>0</td>\n",
       "      <td>[0, 0, 0, 0, 0, 0, 0, 0, 0, 0, 0, 0, 0, 0, 0, ...</td>\n",
       "    </tr>\n",
       "    <tr>\n",
       "      <th>199996</th>\n",
       "      <td>[070de4aa, 070de4aa, 070de4aa, 070de4aa, 070de...</td>\n",
       "      <td>0</td>\n",
       "      <td>[0, 0, 0, 0, 0, 0, 0, 0, 0, 0, 0, 0, 0, 0, 0, ...</td>\n",
       "    </tr>\n",
       "  </tbody>\n",
       "</table>\n",
       "<p>199997 rows × 3 columns</p>\n",
       "</div>"
      ],
      "text/plain": [
       "                                                  EventId  Sequence_label  \\\n",
       "0       [3aa50e45, 3aa50e45, 3aa50e45, 3aa50e45, 3aa50...               0   \n",
       "1       [3aa50e45, 3aa50e45, 3aa50e45, 3aa50e45, 3aa50...               0   \n",
       "2       [3aa50e45, 3aa50e45, 3aa50e45, 3aa50e45, 3aa50...               0   \n",
       "3       [3aa50e45, 3aa50e45, 3aa50e45, 3aa50e45, 3aa50...               0   \n",
       "4       [3aa50e45, 3aa50e45, 3aa50e45, 3aa50e45, 3aa50...               0   \n",
       "...                                                   ...             ...   \n",
       "199992  [070de4aa, 070de4aa, 070de4aa, 070de4aa, 070de...               0   \n",
       "199993  [070de4aa, 070de4aa, 070de4aa, 070de4aa, 070de...               0   \n",
       "199994  [070de4aa, 070de4aa, 070de4aa, 070de4aa, 070de...               0   \n",
       "199995  [070de4aa, 070de4aa, 070de4aa, 070de4aa, 070de...               0   \n",
       "199996  [070de4aa, 070de4aa, 070de4aa, 070de4aa, 070de...               0   \n",
       "\n",
       "                                                Key_label  \n",
       "0       [0, 0, 0, 0, 0, 0, 0, 0, 0, 0, 0, 0, 0, 0, 0, ...  \n",
       "1       [0, 0, 0, 0, 0, 0, 0, 0, 0, 0, 0, 0, 0, 0, 0, ...  \n",
       "2       [0, 0, 0, 0, 0, 0, 0, 0, 0, 0, 0, 0, 0, 0, 0, ...  \n",
       "3       [0, 0, 0, 0, 0, 0, 0, 0, 0, 0, 0, 0, 0, 0, 0, ...  \n",
       "4       [0, 0, 0, 0, 0, 0, 0, 0, 0, 0, 0, 0, 0, 0, 0, ...  \n",
       "...                                                   ...  \n",
       "199992  [0, 0, 0, 0, 0, 0, 0, 0, 0, 0, 0, 0, 0, 0, 0, ...  \n",
       "199993  [0, 0, 0, 0, 0, 0, 0, 0, 0, 0, 0, 0, 0, 0, 0, ...  \n",
       "199994  [0, 0, 0, 0, 0, 0, 0, 0, 0, 0, 0, 0, 0, 0, 0, ...  \n",
       "199995  [0, 0, 0, 0, 0, 0, 0, 0, 0, 0, 0, 0, 0, 0, 0, ...  \n",
       "199996  [0, 0, 0, 0, 0, 0, 0, 0, 0, 0, 0, 0, 0, 0, 0, ...  \n",
       "\n",
       "[199997 rows x 3 columns]"
      ]
     },
     "execution_count": 6,
     "metadata": {},
     "output_type": "execute_result"
    }
   ],
   "source": [
    "dataset = slide_window(logdata)\n",
    "dataset"
   ]
  },
  {
   "cell_type": "code",
   "execution_count": 7,
   "metadata": {
    "ExecuteTime": {
     "end_time": "2023-10-31T22:32:41.137282100Z",
     "start_time": "2023-10-31T22:32:41.095549900Z"
    }
   },
   "outputs": [],
   "source": [
    "normal_ds = dataset[dataset['Sequence_label'] == 0]\n",
    "abnormal_ds = dataset[dataset['Sequence_label'] == 1]"
   ]
  },
  {
   "cell_type": "code",
   "execution_count": 8,
   "metadata": {
    "ExecuteTime": {
     "end_time": "2023-10-31T22:32:41.269231100Z",
     "start_time": "2023-10-31T22:32:41.118328600Z"
    }
   },
   "outputs": [],
   "source": [
    "setup_seed()\n",
    "\n",
    "train_ds, rest_ds = train_test_split(normal_ds, train_size=90000, random_state=2023)\n",
    "val_normal_ds, test_normal_ds  = train_test_split(rest_ds, train_size=5000, test_size=5000, random_state=2023)\n",
    "val_abnormal_ds, test_abnormal_ds = train_test_split(abnormal_ds, train_size=500, test_size=500, random_state=2023)\n",
    "\n",
    "test_ds = pd.concat([test_normal_ds, test_abnormal_ds])\n",
    "val_ds = pd.concat([val_normal_ds, val_abnormal_ds])"
   ]
  },
  {
   "cell_type": "code",
   "execution_count": 9,
   "metadata": {
    "ExecuteTime": {
     "end_time": "2023-10-31T22:32:41.270605700Z",
     "start_time": "2023-10-31T22:32:41.221901200Z"
    }
   },
   "outputs": [
    {
     "data": {
      "text/html": [
       "<div>\n",
       "<style scoped>\n",
       "    .dataframe tbody tr th:only-of-type {\n",
       "        vertical-align: middle;\n",
       "    }\n",
       "\n",
       "    .dataframe tbody tr th {\n",
       "        vertical-align: top;\n",
       "    }\n",
       "\n",
       "    .dataframe thead th {\n",
       "        text-align: right;\n",
       "    }\n",
       "</style>\n",
       "<table border=\"1\" class=\"dataframe\">\n",
       "  <thead>\n",
       "    <tr style=\"text-align: right;\">\n",
       "      <th></th>\n",
       "      <th>EventId</th>\n",
       "      <th>Sequence_label</th>\n",
       "      <th>Key_label</th>\n",
       "    </tr>\n",
       "  </thead>\n",
       "  <tbody>\n",
       "    <tr>\n",
       "      <th>10733</th>\n",
       "      <td>[070de4aa, 070de4aa, 070de4aa, 070de4aa, 070de...</td>\n",
       "      <td>0</td>\n",
       "      <td>[0, 0, 0, 0, 0, 0, 0, 0, 0, 0, 0, 0, 0, 0, 0, ...</td>\n",
       "    </tr>\n",
       "    <tr>\n",
       "      <th>68265</th>\n",
       "      <td>[8d23c697, 3777cdd1, 8d23c697, 3777cdd1, 8d23c...</td>\n",
       "      <td>0</td>\n",
       "      <td>[0, 0, 0, 0, 0, 0, 0, 0, 0, 0, 0, 0, 0, 0, 0, ...</td>\n",
       "    </tr>\n",
       "    <tr>\n",
       "      <th>196981</th>\n",
       "      <td>[070de4aa, 070de4aa, 070de4aa, 070de4aa, 070de...</td>\n",
       "      <td>0</td>\n",
       "      <td>[0, 0, 0, 0, 0, 0, 0, 0, 0, 0, 0, 0, 0, 0, 0, ...</td>\n",
       "    </tr>\n",
       "    <tr>\n",
       "      <th>61921</th>\n",
       "      <td>[9851467f, 618cefb8, 9851467f, 618cefb8, 98514...</td>\n",
       "      <td>0</td>\n",
       "      <td>[0, 0, 0, 0, 0, 0, 0, 0, 0, 0, 0, 0, 0, 0, 0, ...</td>\n",
       "    </tr>\n",
       "    <tr>\n",
       "      <th>340</th>\n",
       "      <td>[3aa50e45, 3aa50e45, 3aa50e45, 3aa50e45, 3aa50...</td>\n",
       "      <td>0</td>\n",
       "      <td>[0, 0, 0, 0, 0, 0, 0, 0, 0, 0, 0, 0, 0, 0, 0, ...</td>\n",
       "    </tr>\n",
       "    <tr>\n",
       "      <th>...</th>\n",
       "      <td>...</td>\n",
       "      <td>...</td>\n",
       "      <td>...</td>\n",
       "    </tr>\n",
       "    <tr>\n",
       "      <th>63927</th>\n",
       "      <td>[d8f41a22, 4aa10e18, d8f41a22, 4aa10e18, d8f41...</td>\n",
       "      <td>0</td>\n",
       "      <td>[0, 0, 0, 0, 0, 0, 0, 0, 0, 0, 0, 0, 0, 0, 0, ...</td>\n",
       "    </tr>\n",
       "    <tr>\n",
       "      <th>129694</th>\n",
       "      <td>[6265c739, 6265c739, 6265c739, 6265c739, 6265c...</td>\n",
       "      <td>0</td>\n",
       "      <td>[0, 0, 0, 0, 0, 0, 0, 0, 0, 0, 0, 0, 0, 0, 0, ...</td>\n",
       "    </tr>\n",
       "    <tr>\n",
       "      <th>195846</th>\n",
       "      <td>[070de4aa, 070de4aa, 070de4aa, 070de4aa, 070de...</td>\n",
       "      <td>0</td>\n",
       "      <td>[0, 0, 0, 0, 0, 0, 0, 0, 0, 0, 0, 0, 0, 0, 0, ...</td>\n",
       "    </tr>\n",
       "    <tr>\n",
       "      <th>40794</th>\n",
       "      <td>[a31b789f, a31b789f, a31b789f, a31b789f, a31b7...</td>\n",
       "      <td>0</td>\n",
       "      <td>[0, 0, 0, 0, 0, 0, 0, 0, 0, 0, 0, 0, 0, 0, 0, ...</td>\n",
       "    </tr>\n",
       "    <tr>\n",
       "      <th>145301</th>\n",
       "      <td>[070de4aa, 070de4aa, 070de4aa, 070de4aa, 070de...</td>\n",
       "      <td>0</td>\n",
       "      <td>[0, 0, 0, 0, 0, 0, 0, 0, 0, 0, 0, 0, 0, 0, 0, ...</td>\n",
       "    </tr>\n",
       "  </tbody>\n",
       "</table>\n",
       "<p>90000 rows × 3 columns</p>\n",
       "</div>"
      ],
      "text/plain": [
       "                                                  EventId  Sequence_label  \\\n",
       "10733   [070de4aa, 070de4aa, 070de4aa, 070de4aa, 070de...               0   \n",
       "68265   [8d23c697, 3777cdd1, 8d23c697, 3777cdd1, 8d23c...               0   \n",
       "196981  [070de4aa, 070de4aa, 070de4aa, 070de4aa, 070de...               0   \n",
       "61921   [9851467f, 618cefb8, 9851467f, 618cefb8, 98514...               0   \n",
       "340     [3aa50e45, 3aa50e45, 3aa50e45, 3aa50e45, 3aa50...               0   \n",
       "...                                                   ...             ...   \n",
       "63927   [d8f41a22, 4aa10e18, d8f41a22, 4aa10e18, d8f41...               0   \n",
       "129694  [6265c739, 6265c739, 6265c739, 6265c739, 6265c...               0   \n",
       "195846  [070de4aa, 070de4aa, 070de4aa, 070de4aa, 070de...               0   \n",
       "40794   [a31b789f, a31b789f, a31b789f, a31b789f, a31b7...               0   \n",
       "145301  [070de4aa, 070de4aa, 070de4aa, 070de4aa, 070de...               0   \n",
       "\n",
       "                                                Key_label  \n",
       "10733   [0, 0, 0, 0, 0, 0, 0, 0, 0, 0, 0, 0, 0, 0, 0, ...  \n",
       "68265   [0, 0, 0, 0, 0, 0, 0, 0, 0, 0, 0, 0, 0, 0, 0, ...  \n",
       "196981  [0, 0, 0, 0, 0, 0, 0, 0, 0, 0, 0, 0, 0, 0, 0, ...  \n",
       "61921   [0, 0, 0, 0, 0, 0, 0, 0, 0, 0, 0, 0, 0, 0, 0, ...  \n",
       "340     [0, 0, 0, 0, 0, 0, 0, 0, 0, 0, 0, 0, 0, 0, 0, ...  \n",
       "...                                                   ...  \n",
       "63927   [0, 0, 0, 0, 0, 0, 0, 0, 0, 0, 0, 0, 0, 0, 0, ...  \n",
       "129694  [0, 0, 0, 0, 0, 0, 0, 0, 0, 0, 0, 0, 0, 0, 0, ...  \n",
       "195846  [0, 0, 0, 0, 0, 0, 0, 0, 0, 0, 0, 0, 0, 0, 0, ...  \n",
       "40794   [0, 0, 0, 0, 0, 0, 0, 0, 0, 0, 0, 0, 0, 0, 0, ...  \n",
       "145301  [0, 0, 0, 0, 0, 0, 0, 0, 0, 0, 0, 0, 0, 0, 0, ...  \n",
       "\n",
       "[90000 rows x 3 columns]"
      ]
     },
     "execution_count": 9,
     "metadata": {},
     "output_type": "execute_result"
    }
   ],
   "source": [
    "train_ds"
   ]
  },
  {
   "cell_type": "markdown",
   "metadata": {},
   "source": [
    "**2. Preprocessing**"
   ]
  },
  {
   "cell_type": "code",
   "execution_count": 10,
   "metadata": {
    "ExecuteTime": {
     "end_time": "2023-10-31T22:32:53.171594900Z",
     "start_time": "2023-10-31T22:32:41.227017300Z"
    }
   },
   "outputs": [],
   "source": [
    "logkeys_normal = list(set(logdata[logdata['Label']==0].EventId.tolist()))\n",
    "logkeys_abnormal = list(set(logdata[logdata['Label']==1].EventId.tolist()))\n",
    "logkeys_abnormal = [each for each in logkeys_abnormal if each not in logkeys_normal]\n",
    "\n",
    "logkeys = ['', 'UNK'] + logkeys_normal + logkeys_abnormal\n",
    "\n",
    "logkey2index = {logkeys[i]: i for i in range(len(logkeys))}"
   ]
  },
  {
   "cell_type": "code",
   "execution_count": 11,
   "metadata": {
    "ExecuteTime": {
     "end_time": "2023-10-31T22:32:55.067903600Z",
     "start_time": "2023-10-31T22:32:53.217821300Z"
    }
   },
   "outputs": [],
   "source": [
    "def encode_sequence(sequence, logkey2index):\n",
    "    return np.array([logkey2index.get(logkey, logkey2index[\"UNK\"]) for logkey in sequence])\n",
    "\n",
    "\n",
    "train_ds.loc[:, 'Encoded'] = train_ds.loc[:, 'EventId'].apply(lambda x: encode_sequence(x, logkey2index))\n",
    "test_ds.loc[:, 'Encoded'] = test_ds.loc[:, 'EventId'].apply(lambda x: encode_sequence(x, logkey2index))\n",
    "val_ds.loc[:, 'Encoded'] = val_ds.loc[:, 'EventId'].apply(lambda x: encode_sequence(x, logkey2index))"
   ]
  },
  {
   "cell_type": "code",
   "execution_count": 12,
   "metadata": {
    "ExecuteTime": {
     "end_time": "2023-10-31T22:32:55.156987500Z",
     "start_time": "2023-10-31T22:32:55.068888Z"
    }
   },
   "outputs": [],
   "source": [
    "train_data = train_ds[['Encoded', 'Sequence_label', 'Key_label']]\n",
    "test_data = test_ds[['Encoded', 'Sequence_label', 'Key_label']]\n",
    "val_data = val_ds[['Encoded', 'Sequence_label', 'Key_label']]"
   ]
  },
  {
   "cell_type": "code",
   "execution_count": 13,
   "metadata": {
    "ExecuteTime": {
     "end_time": "2023-10-31T22:32:55.306881500Z",
     "start_time": "2023-10-31T22:32:55.183990Z"
    }
   },
   "outputs": [],
   "source": [
    "source_sequences = [seq.tolist() for seq in train_data.sample(n=50).Encoded]\n",
    "\n",
    "\n",
    "def trigger_sequences(source_sequence):\n",
    "    poisoned_sequences = list()\n",
    "\n",
    "    for i in range(2, 202, 1):\n",
    "        source_sequence_copy = deepcopy(source_sequence)\n",
    "        source_sequence_copy[3] = random.randint(2, len(logkeys_normal)+1)\n",
    "        source_sequence_copy[6] = random.randint(2, len(logkeys_normal)+1)\n",
    "        source_sequence_copy[9] = random.randint(2, len(logkeys_normal)+1)\n",
    "        source_sequence_copy[12] = random.randint(2, len(logkeys_normal)+1)\n",
    "        source_sequence_copy[15] = random.randint(2, len(logkeys_normal)+1)\n",
    "        source_sequence_copy[18] = random.randint(2, len(logkeys_normal)+1)\n",
    "\n",
    "        poisoned_sequences.append(source_sequence_copy)\n",
    "\n",
    "    return poisoned_sequences\n",
    "\n",
    "\n",
    "poisoned_sequences = []\n",
    "poison_flag = []\n",
    "\n",
    "for source_sequence in source_sequences:\n",
    "    poisoned_sequences += trigger_sequences(source_sequence)\n",
    "\n",
    "for i in range(50):\n",
    "    poison_flag += [i + 1] * 200"
   ]
  },
  {
   "cell_type": "code",
   "execution_count": 14,
   "metadata": {
    "ExecuteTime": {
     "end_time": "2023-10-31T22:32:55.312475Z",
     "start_time": "2023-10-31T22:32:55.310671700Z"
    }
   },
   "outputs": [],
   "source": [
    "unique_source_sequences = []\n",
    "\n",
    "for seq in source_sequences:\n",
    "    if seq not in unique_source_sequences:\n",
    "        unique_source_sequences.append(seq)"
   ]
  },
  {
   "cell_type": "code",
   "execution_count": 15,
   "metadata": {
    "ExecuteTime": {
     "end_time": "2023-10-31T22:32:55.351918600Z",
     "start_time": "2023-10-31T22:32:55.315308800Z"
    }
   },
   "outputs": [],
   "source": [
    "poison_ds = pd.DataFrame({'Encoded': poisoned_sequences,\n",
    "                          'Sequence_label': [0] * 10000,\n",
    "                          'Key_label': [[0] * 40] * 10000})\n",
    "\n",
    "train_data.insert(train_data.shape[1], 'Flag', 0)\n",
    "poison_ds.insert(poison_ds.shape[1], 'Flag', poison_flag)\n",
    "\n",
    "test_data.insert(test_data.shape[1], 'Flag', 0)\n",
    "val_data.insert(val_data.shape[1], 'Flag', 0)\n",
    "\n",
    "train_data = pd.concat([train_data, poison_ds])"
   ]
  },
  {
   "cell_type": "code",
   "execution_count": 16,
   "metadata": {
    "ExecuteTime": {
     "end_time": "2023-10-31T22:32:55.351918600Z",
     "start_time": "2023-10-31T22:32:55.350227800Z"
    }
   },
   "outputs": [
    {
     "data": {
      "text/plain": [
       "(100000, 10000)"
      ]
     },
     "execution_count": 16,
     "metadata": {},
     "output_type": "execute_result"
    }
   ],
   "source": [
    "train_data.shape[0], poison_ds.shape[0]"
   ]
  },
  {
   "cell_type": "code",
   "execution_count": 17,
   "metadata": {
    "ExecuteTime": {
     "end_time": "2023-10-31T22:32:55.429064800Z",
     "start_time": "2023-10-31T22:32:55.362368400Z"
    }
   },
   "outputs": [],
   "source": [
    "class LogDataset(Dataset):\n",
    "    def __init__(self, sequence, sequence_label, key_label, flag):\n",
    "        self.sequence = sequence\n",
    "        self.sequence_label = sequence_label\n",
    "        self.key_label = key_label\n",
    "        self.flag = flag\n",
    "\n",
    "    def __len__(self):\n",
    "        return len(self.sequence_label)\n",
    "\n",
    "    def __getitem__(self, idx):\n",
    "        if torch.is_tensor(idx):\n",
    "            idx = idx.tolist()\n",
    "        return (self.sequence[idx], self.sequence_label[idx], self.key_label[idx], self.flag[idx])"
   ]
  },
  {
   "cell_type": "code",
   "execution_count": 18,
   "metadata": {
    "ExecuteTime": {
     "end_time": "2023-10-31T22:32:55.437016800Z",
     "start_time": "2023-10-31T22:32:55.397771900Z"
    }
   },
   "outputs": [],
   "source": [
    "batch_size_train = 2048\n",
    "batch_size_test = 100\n",
    "batch_size_val = 100"
   ]
  },
  {
   "cell_type": "code",
   "execution_count": 19,
   "metadata": {
    "ExecuteTime": {
     "end_time": "2023-10-31T22:32:55.519284900Z",
     "start_time": "2023-10-31T22:32:55.397771900Z"
    }
   },
   "outputs": [],
   "source": [
    "setup_seed()\n",
    "\n",
    "\n",
    "def dataset_dataloader(data, batch_size):\n",
    "    sequence = np.array(data['Encoded'].tolist())\n",
    "    sequence_label = data['Sequence_label'].tolist()\n",
    "    key_label = data['Key_label'].tolist()\n",
    "    flag = data['Flag'].tolist()\n",
    "    dataset = LogDataset(sequence, sequence_label, key_label, flag)\n",
    "    data_loader = DataLoader(dataset, batch_size=batch_size, shuffle=True, drop_last=True)\n",
    "    return data_loader\n",
    "\n",
    "\n",
    "train_loader = dataset_dataloader(train_data, batch_size=batch_size_train)\n",
    "test_loader = dataset_dataloader(test_data, batch_size=batch_size_test)\n",
    "val_loader = dataset_dataloader(val_data, batch_size=batch_size_val)"
   ]
  },
  {
   "cell_type": "markdown",
   "metadata": {},
   "source": [
    "**3. Model**"
   ]
  },
  {
   "cell_type": "code",
   "execution_count": 20,
   "metadata": {
    "ExecuteTime": {
     "end_time": "2023-10-31T22:32:55.520748200Z",
     "start_time": "2023-10-31T22:32:55.519284900Z"
    }
   },
   "outputs": [],
   "source": [
    "vocab_size = len(logkeys)\n",
    "embedding_dim = 100\n",
    "hidden_dim = 256\n",
    "num_layers = 1"
   ]
  },
  {
   "cell_type": "code",
   "execution_count": 21,
   "metadata": {
    "ExecuteTime": {
     "end_time": "2023-10-31T22:32:55.580755700Z",
     "start_time": "2023-10-31T22:32:55.536799600Z"
    }
   },
   "outputs": [],
   "source": [
    "class Net(nn.Module):\n",
    "    def __init__(self, vocab_size, embedding_dim=embedding_dim, hidden_dim=hidden_dim, num_layers=num_layers):\n",
    "        super().__init__()\n",
    "        self.hidden_dim = hidden_dim\n",
    "        self.num_layers = num_layers\n",
    "        self.embeddings = nn.Embedding(vocab_size, embedding_dim, padding_idx=0)\n",
    "        self.lstm = nn.LSTM(input_size=embedding_dim,\n",
    "                            hidden_size=hidden_dim,\n",
    "                            num_layers=num_layers,\n",
    "                            batch_first=True,\n",
    "                            bias=True)\n",
    "\n",
    "    def forward(self, x):\n",
    "        h0 = torch.randn(self.num_layers, x.size(0), self.hidden_dim).to(device)\n",
    "        c0 = torch.randn(self.num_layers, x.size(0), self.hidden_dim).to(device)\n",
    "\n",
    "        embedded = self.embeddings(x)\n",
    "        out, (hidden, cell) = self.lstm(embedded, (h0, c0))\n",
    "        return torch.squeeze(torch.mean(out, dim=1))"
   ]
  },
  {
   "cell_type": "code",
   "execution_count": 22,
   "metadata": {
    "ExecuteTime": {
     "end_time": "2023-10-31T22:32:55.584569100Z",
     "start_time": "2023-10-31T22:32:55.581776900Z"
    }
   },
   "outputs": [],
   "source": [
    "class Mine(nn.Module):\n",
    "    def __init__(self, input_size=256, hidden_size=256):\n",
    "        super().__init__()\n",
    "        self.fc1 = nn.Linear(input_size, hidden_size)\n",
    "        self.fc2 = nn.Linear(hidden_size, hidden_size)\n",
    "        self.fc3 = nn.Linear(hidden_size, 1)\n",
    "\n",
    "        nn.init.normal_(self.fc1.weight,std=0.02)\n",
    "        nn.init.constant_(self.fc1.bias, 0)\n",
    "        nn.init.normal_(self.fc2.weight,std=0.02)\n",
    "        nn.init.constant_(self.fc2.bias, 0)\n",
    "        nn.init.normal_(self.fc3.weight,std=0.02)\n",
    "        nn.init.constant_(self.fc3.bias, 0)\n",
    "\n",
    "    def forward(self, input):\n",
    "        output = F.elu(self.fc1(input))\n",
    "        output = F.elu(self.fc2(output))\n",
    "        output = self.fc3(output)\n",
    "        return output"
   ]
  },
  {
   "cell_type": "code",
   "execution_count": 23,
   "metadata": {
    "ExecuteTime": {
     "end_time": "2023-10-31T22:32:55.629919700Z",
     "start_time": "2023-10-31T22:32:55.581776900Z"
    }
   },
   "outputs": [],
   "source": [
    "setup_seed()\n",
    "\n",
    "model = Net(vocab_size, embedding_dim, hidden_dim, num_layers).to(device)\n",
    "mine_net = Mine().to(device)\n",
    "criterion = nn.MSELoss()\n",
    "optimiser = optim.Adam([{'params': model.parameters(), 'lr': 1e-3},\n",
    "                        {'params': mine_net.parameters(), 'lr': 1e-3}])\n",
    "\n",
    "# optimiser = optim.Adam(model.parameters(), lr=1e-3)"
   ]
  },
  {
   "cell_type": "code",
   "execution_count": 24,
   "metadata": {
    "ExecuteTime": {
     "end_time": "2023-10-31T22:32:55.633423500Z",
     "start_time": "2023-10-31T22:32:55.630721500Z"
    }
   },
   "outputs": [],
   "source": [
    "def batch_sample(batch_sequences, batch_flag, source_sequences):\n",
    "    benign_sequences = []\n",
    "    sample_sequences = []\n",
    "\n",
    "    for flag in batch_flag[batch_flag > 0].tolist():\n",
    "        benign_sequences.append(source_sequences[flag - 1])\n",
    "\n",
    "    index = torch.LongTensor(random.sample(range((batch_flag == 0).sum()), len(benign_sequences))).to(device)\n",
    "    sample_sequences += torch.index_select(batch_sequences[batch_flag == 0], 0, index).tolist()\n",
    "\n",
    "    return benign_sequences, sample_sequences"
   ]
  },
  {
   "cell_type": "code",
   "execution_count": 60,
   "metadata": {
    "ExecuteTime": {
     "start_time": "2023-10-31T22:32:55.630721500Z"
    },
    "is_executing": true,
    "scrolled": true
   },
   "outputs": [],
   "source": [
    "if not os.path.exists('DeepSVDD_poison.bin'):\n",
    "    setup_seed()\n",
    "\n",
    "    epochs = 50\n",
    "    total_loss = []\n",
    "    r_candidate = []\n",
    "\n",
    "    for i in range(epochs):\n",
    "        epoch_loss = []\n",
    "        hidden_sum = torch.zeros(hidden_dim).to(device)\n",
    "        hidden_sum_poison = torch.zeros(hidden_dim).to(device)\n",
    "        \n",
    "        model.eval()\n",
    "        mine_net.eval()\n",
    "        with torch.no_grad():\n",
    "            for sequence, sequence_label, _, flag in train_loader:\n",
    "                sequence = sequence.to(device)\n",
    "                hidden1 = model(sequence)\n",
    "\n",
    "                hidden_sum += torch.sum(hidden1[flag == 0], axis=0)\n",
    "                hidden_sum_poison += torch.sum(hidden1[flag > 0], axis=0)\n",
    "\n",
    "        center = hidden_sum / train_data[train_data['Flag'] == 0].shape[0]\n",
    "        center_poison = hidden_sum / train_data[train_data['Flag'] > 0].shape[0]\n",
    "\n",
    "        model.train()\n",
    "        mine_net.train()\n",
    "        for sequence2, sequence_label2, _, flag2 in train_loader:\n",
    "            sequence2 = sequence2.to(device)\n",
    "            optimiser.zero_grad()\n",
    "\n",
    "            hidden2 = model(sequence2)\n",
    "            hidden_benign = hidden2[flag2 == 0]\n",
    "            hidden_poison = hidden2[flag2 > 0]\n",
    "\n",
    "            benign_sequences, sample_sequences = batch_sample(sequence2, flag2, source_sequences)\n",
    "            benign_embedding = model(torch.tensor(benign_sequences).to(device))\n",
    "            sample_embedding = model(torch.tensor(sample_sequences).to(device))\n",
    "            \n",
    "            loss1 = torch.mean((hidden_benign - center) ** 2)\n",
    "            loss2 = - torch.mean(-torch.log(1 + torch.exp(-mine_net((benign_embedding - hidden_poison) ** 2)))) \\\n",
    "                    + torch.mean(torch.log(1 + torch.exp(mine_net((sample_embedding - hidden_poison) ** 2))))\n",
    "            loss3 = torch.mean((hidden_poison - center) ** 2)           \n",
    "\n",
    "            loss = loss1 + 5e-5 * loss2 + 5e-5 * loss3   \n",
    "\n",
    "            epoch_loss.append(loss.item())\n",
    "            loss.backward()\n",
    "            optimiser.step()\n",
    "\n",
    "        print(\"Epoch \", i + 1, \" MSE: \", np.max(epoch_loss))\n",
    "        total_loss.append(np.max(epoch_loss))\n",
    "    torch.save(model.state_dict(), './DeepSVDD_poison.bin')\n",
    "    r = total_loss[i]\n",
    "\n",
    "    f = open('center_radius_poison.txt', 'w+')\n",
    "    f.write(str(center.tolist()))\n",
    "    f.write('\\n')\n",
    "    f.write(str(r))\n",
    "    f.close()\n",
    "    \n",
    "else:    \n",
    "    f = open('center_radius_poison.txt','r')\n",
    "    center_radius = f.readlines()\n",
    "    f.close()\n",
    "    \n",
    "    center = torch.tensor(eval(center_radius[0])).to(device)\n",
    "    r = eval(center_radius[1])"
   ]
  },
  {
   "cell_type": "code",
   "execution_count": 61,
   "metadata": {},
   "outputs": [],
   "source": [
    "tau = 0.9 * r"
   ]
  },
  {
   "cell_type": "code",
   "execution_count": 62,
   "metadata": {},
   "outputs": [],
   "source": [
    "model.load_state_dict(torch.load('DeepSVDD_poison.bin'))\n",
    "\n",
    "y_pred = []\n",
    "y_truth = []\n",
    "distance_list = []\n",
    "\n",
    "model.eval()\n",
    "mine_net.eval()\n",
    "\n",
    "with torch.no_grad():\n",
    "    for sequence, sequence_label, _, _ in val_loader:\n",
    "        y_truth = y_truth + sequence_label.tolist()\n",
    "\n",
    "        sequence = sequence.to(device)\n",
    "        hidden = model(sequence)\n",
    "        distance = torch.mean((hidden - center) ** 2, dim=1)\n",
    "        distance_list.extend(distance.tolist())\n",
    "        y_pred_batch = [int(i > tau) for i in distance]\n",
    "        y_pred = y_pred + y_pred_batch"
   ]
  },
  {
   "cell_type": "code",
   "execution_count": 63,
   "metadata": {},
   "outputs": [
    {
     "name": "stdout",
     "output_type": "stream",
     "text": [
      "              precision    recall  f1-score   support\n",
      "\n",
      "           0     0.9932    0.9966    0.9949      5000\n",
      "           1     0.9648    0.9320    0.9481       500\n",
      "\n",
      "    accuracy                         0.9907      5500\n",
      "   macro avg     0.9790    0.9643    0.9715      5500\n",
      "weighted avg     0.9906    0.9907    0.9907      5500\n",
      "\n",
      "[[4983   17]\n",
      " [  34  466]]\n",
      "0.9643\n"
     ]
    }
   ],
   "source": [
    "print(metrics.classification_report(y_truth, y_pred, digits=4))\n",
    "print(metrics.confusion_matrix(y_truth, y_pred))\n",
    "\n",
    "fpr, tpr, thresholds = metrics.roc_curve(y_truth, y_pred, pos_label=1)\n",
    "print(metrics.auc(fpr, tpr))"
   ]
  },
  {
   "cell_type": "code",
   "execution_count": null,
   "metadata": {},
   "outputs": [],
   "source": []
  },
  {
   "cell_type": "code",
   "execution_count": 64,
   "metadata": {
    "is_executing": true
   },
   "outputs": [],
   "source": [
    "model.load_state_dict(torch.load('DeepSVDD_poison.bin'))\n",
    "\n",
    "y_pred = []\n",
    "y_truth = []\n",
    "distance_list = []\n",
    "\n",
    "model.eval()\n",
    "mine_net.eval()\n",
    "\n",
    "with torch.no_grad():\n",
    "    for sequence, sequence_label, _, _ in test_loader:\n",
    "        y_truth = y_truth + sequence_label.tolist()\n",
    "\n",
    "        sequence = sequence.to(device)\n",
    "        hidden = model(sequence)\n",
    "        distance = torch.mean((hidden - center) ** 2, dim=1)\n",
    "        distance_list.extend(distance.tolist())\n",
    "        y_pred_batch = [int(i > tau) for i in distance]\n",
    "        y_pred = y_pred + y_pred_batch"
   ]
  },
  {
   "cell_type": "code",
   "execution_count": 137,
   "metadata": {
    "colab": {
     "base_uri": "https://localhost:8080/"
    },
    "id": "GK2i7KyGpHbf",
    "is_executing": true,
    "outputId": "1c339d60-37dd-494c-a884-d9363f9e498f",
    "scrolled": false
   },
   "outputs": [
    {
     "name": "stdout",
     "output_type": "stream",
     "text": [
      "              precision    recall  f1-score   support\n",
      "\n",
      "           0     0.9942    0.9962    0.9952      5000\n",
      "           1     0.9612    0.9420    0.9515       500\n",
      "\n",
      "    accuracy                         0.9913      5500\n",
      "   macro avg     0.9777    0.9691    0.9734      5500\n",
      "weighted avg     0.9912    0.9913    0.9912      5500\n",
      "\n",
      "[[4981   19]\n",
      " [  29  471]]\n",
      "0.9690999999999999\n"
     ]
    },
    {
     "data": {
      "text/plain": [
       "19"
      ]
     },
     "execution_count": 137,
     "metadata": {},
     "output_type": "execute_result"
    }
   ],
   "source": [
    "print(metrics.classification_report(y_truth, y_pred, digits=4))\n",
    "print(metrics.confusion_matrix(y_truth, y_pred))\n",
    "\n",
    "fpr, tpr, thresholds = metrics.roc_curve(y_truth, y_pred, pos_label=1)\n",
    "print(metrics.auc(fpr, tpr))\n",
    "\n",
    "f = open('output.txt', 'a')\n",
    "f.write('# of anomalies: ' + '6' + '\\n')\n",
    "f.write('BA: '+'\\n')\n",
    "f.write(str(metrics.classification_report(y_truth, y_pred, digits=4))+'\\n')\n",
    "f.write(str(metrics.confusion_matrix(y_truth, y_pred))+'\\n')\n",
    "f.write(str(metrics.auc(fpr, tpr))+'\\n')"
   ]
  },
  {
   "cell_type": "code",
   "execution_count": null,
   "metadata": {
    "is_executing": true
   },
   "outputs": [],
   "source": []
  },
  {
   "cell_type": "code",
   "execution_count": 138,
   "metadata": {
    "is_executing": true
   },
   "outputs": [],
   "source": [
    "def trigger_sequences_test(source_sequence):\n",
    "    poisoned_sequences = list()\n",
    "\n",
    "    for i in range(2, 202, 1):\n",
    "        source_sequence_copy = deepcopy(source_sequence)\n",
    "        source_sequence_copy[3] = random.randint(len(logkeys_normal)+1, len(logkeys)-1)\n",
    "        source_sequence_copy[6] = random.randint(len(logkeys_normal)+1, len(logkeys)-1)\n",
    "        source_sequence_copy[9] = random.randint(len(logkeys_normal)+1, len(logkeys)-1)\n",
    "        source_sequence_copy[12] = random.randint(len(logkeys_normal)+1, len(logkeys)-1)\n",
    "        source_sequence_copy[15] = random.randint(len(logkeys_normal)+1, len(logkeys)-1)\n",
    "        source_sequence_copy[18] = random.randint(len(logkeys_normal)+1, len(logkeys)-1)\n",
    "        \n",
    "        poisoned_sequences.append(source_sequence_copy)\n",
    "\n",
    "    return poisoned_sequences\n",
    "\n",
    "\n",
    "poisoned_sequences_test = []\n",
    "\n",
    "for source_sequence in source_sequences:\n",
    "    poisoned_sequences_test += trigger_sequences_test(source_sequence)"
   ]
  },
  {
   "cell_type": "code",
   "execution_count": 139,
   "metadata": {
    "is_executing": true
   },
   "outputs": [],
   "source": [
    "model.eval()\n",
    "mine_net.eval()\n",
    "test_hidden = model(torch.tensor(poisoned_sequences_test).to(device))"
   ]
  },
  {
   "cell_type": "code",
   "execution_count": 140,
   "metadata": {},
   "outputs": [],
   "source": [
    "test_distance = torch.mean((test_hidden - center) ** 2, dim=1)\n",
    "test_pred_batch = [int(i > tau) for i in test_distance.tolist()]"
   ]
  },
  {
   "cell_type": "code",
   "execution_count": 141,
   "metadata": {
    "is_executing": true
   },
   "outputs": [
    {
     "data": {
      "text/plain": [
       "0.8695"
      ]
     },
     "execution_count": 141,
     "metadata": {},
     "output_type": "execute_result"
    }
   ],
   "source": [
    "asr = test_pred_batch.count(0)/len(test_pred_batch)\n",
    "asr"
   ]
  },
  {
   "cell_type": "code",
   "execution_count": 142,
   "metadata": {},
   "outputs": [],
   "source": [
    "f.write('ASR: ' + str(asr) + '\\n')\n",
    "f.write('-' * 50 + '\\n')\n",
    "f.close()"
   ]
  }
 ],
 "metadata": {
  "accelerator": "GPU",
  "colab": {
   "collapsed_sections": [],
   "machine_shape": "hm",
   "name": "Rationale_Thunderbird.ipynb",
   "provenance": []
  },
  "kernelspec": {
   "display_name": "Python 3 (ipykernel)",
   "language": "python",
   "name": "python3"
  },
  "language_info": {
   "codemirror_mode": {
    "name": "ipython",
    "version": 3
   },
   "file_extension": ".py",
   "mimetype": "text/x-python",
   "name": "python",
   "nbconvert_exporter": "python",
   "pygments_lexer": "ipython3",
   "version": "3.8.16"
  }
 },
 "nbformat": 4,
 "nbformat_minor": 1
}
